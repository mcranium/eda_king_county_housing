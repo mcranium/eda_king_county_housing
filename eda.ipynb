{
 "cells": [
  {
   "cell_type": "markdown",
   "id": "804578d2-01cd-463e-848a-d1289a3fee5f",
   "metadata": {},
   "source": [
    "# Exploratory Data Analysis (King County Housing)"
   ]
  },
  {
   "cell_type": "markdown",
   "id": "85d6840e-6662-4f58-8b8f-bb6819992fb2",
   "metadata": {},
   "source": [
    "## 1. Loading the libraries"
   ]
  },
  {
   "cell_type": "code",
   "execution_count": 596,
   "id": "d393b46f-2d0e-4623-9aaf-ebb0d55d49bb",
   "metadata": {},
   "outputs": [],
   "source": [
    "import pandas as pd\n",
    "import numpy as np\n",
    "import seaborn as sns\n",
    "import matplotlib.pyplot as plt\n",
    "\n",
    "%matplotlib inline"
   ]
  },
  {
   "cell_type": "markdown",
   "id": "aa86525d-56d8-4608-bea5-5e4560ae33d9",
   "metadata": {},
   "source": [
    "## 2. Reading in the data"
   ]
  },
  {
   "cell_type": "code",
   "execution_count": 597,
   "id": "b4bfd844-dfd2-4dc9-9dab-29a7b239ee55",
   "metadata": {},
   "outputs": [],
   "source": [
    "housing = pd.read_csv('data/King_County_House_prices_dataset.csv')"
   ]
  },
  {
   "cell_type": "markdown",
   "id": "3d458bcc-ab41-4c11-97ed-1c726355bf42",
   "metadata": {},
   "source": [
    "## 3. Exploring the variables and values"
   ]
  },
  {
   "cell_type": "code",
   "execution_count": 598,
   "id": "daebacb7-9187-4802-ac05-0925bcc86241",
   "metadata": {},
   "outputs": [
    {
     "data": {
      "text/html": [
       "<div>\n",
       "<style scoped>\n",
       "    .dataframe tbody tr th:only-of-type {\n",
       "        vertical-align: middle;\n",
       "    }\n",
       "\n",
       "    .dataframe tbody tr th {\n",
       "        vertical-align: top;\n",
       "    }\n",
       "\n",
       "    .dataframe thead th {\n",
       "        text-align: right;\n",
       "    }\n",
       "</style>\n",
       "<table border=\"1\" class=\"dataframe\">\n",
       "  <thead>\n",
       "    <tr style=\"text-align: right;\">\n",
       "      <th></th>\n",
       "      <th>id</th>\n",
       "      <th>date</th>\n",
       "      <th>price</th>\n",
       "      <th>bedrooms</th>\n",
       "      <th>bathrooms</th>\n",
       "      <th>sqft_living</th>\n",
       "      <th>sqft_lot</th>\n",
       "      <th>floors</th>\n",
       "      <th>waterfront</th>\n",
       "      <th>view</th>\n",
       "      <th>...</th>\n",
       "      <th>grade</th>\n",
       "      <th>sqft_above</th>\n",
       "      <th>sqft_basement</th>\n",
       "      <th>yr_built</th>\n",
       "      <th>yr_renovated</th>\n",
       "      <th>zipcode</th>\n",
       "      <th>lat</th>\n",
       "      <th>long</th>\n",
       "      <th>sqft_living15</th>\n",
       "      <th>sqft_lot15</th>\n",
       "    </tr>\n",
       "  </thead>\n",
       "  <tbody>\n",
       "    <tr>\n",
       "      <th>0</th>\n",
       "      <td>7129300520</td>\n",
       "      <td>10/13/2014</td>\n",
       "      <td>221900.0</td>\n",
       "      <td>3</td>\n",
       "      <td>1.00</td>\n",
       "      <td>1180</td>\n",
       "      <td>5650</td>\n",
       "      <td>1.0</td>\n",
       "      <td>NaN</td>\n",
       "      <td>0.0</td>\n",
       "      <td>...</td>\n",
       "      <td>7</td>\n",
       "      <td>1180</td>\n",
       "      <td>0.0</td>\n",
       "      <td>1955</td>\n",
       "      <td>0.0</td>\n",
       "      <td>98178</td>\n",
       "      <td>47.5112</td>\n",
       "      <td>-122.257</td>\n",
       "      <td>1340</td>\n",
       "      <td>5650</td>\n",
       "    </tr>\n",
       "    <tr>\n",
       "      <th>1</th>\n",
       "      <td>6414100192</td>\n",
       "      <td>12/9/2014</td>\n",
       "      <td>538000.0</td>\n",
       "      <td>3</td>\n",
       "      <td>2.25</td>\n",
       "      <td>2570</td>\n",
       "      <td>7242</td>\n",
       "      <td>2.0</td>\n",
       "      <td>0.0</td>\n",
       "      <td>0.0</td>\n",
       "      <td>...</td>\n",
       "      <td>7</td>\n",
       "      <td>2170</td>\n",
       "      <td>400.0</td>\n",
       "      <td>1951</td>\n",
       "      <td>1991.0</td>\n",
       "      <td>98125</td>\n",
       "      <td>47.7210</td>\n",
       "      <td>-122.319</td>\n",
       "      <td>1690</td>\n",
       "      <td>7639</td>\n",
       "    </tr>\n",
       "    <tr>\n",
       "      <th>2</th>\n",
       "      <td>5631500400</td>\n",
       "      <td>2/25/2015</td>\n",
       "      <td>180000.0</td>\n",
       "      <td>2</td>\n",
       "      <td>1.00</td>\n",
       "      <td>770</td>\n",
       "      <td>10000</td>\n",
       "      <td>1.0</td>\n",
       "      <td>0.0</td>\n",
       "      <td>0.0</td>\n",
       "      <td>...</td>\n",
       "      <td>6</td>\n",
       "      <td>770</td>\n",
       "      <td>0.0</td>\n",
       "      <td>1933</td>\n",
       "      <td>NaN</td>\n",
       "      <td>98028</td>\n",
       "      <td>47.7379</td>\n",
       "      <td>-122.233</td>\n",
       "      <td>2720</td>\n",
       "      <td>8062</td>\n",
       "    </tr>\n",
       "    <tr>\n",
       "      <th>3</th>\n",
       "      <td>2487200875</td>\n",
       "      <td>12/9/2014</td>\n",
       "      <td>604000.0</td>\n",
       "      <td>4</td>\n",
       "      <td>3.00</td>\n",
       "      <td>1960</td>\n",
       "      <td>5000</td>\n",
       "      <td>1.0</td>\n",
       "      <td>0.0</td>\n",
       "      <td>0.0</td>\n",
       "      <td>...</td>\n",
       "      <td>7</td>\n",
       "      <td>1050</td>\n",
       "      <td>910.0</td>\n",
       "      <td>1965</td>\n",
       "      <td>0.0</td>\n",
       "      <td>98136</td>\n",
       "      <td>47.5208</td>\n",
       "      <td>-122.393</td>\n",
       "      <td>1360</td>\n",
       "      <td>5000</td>\n",
       "    </tr>\n",
       "    <tr>\n",
       "      <th>4</th>\n",
       "      <td>1954400510</td>\n",
       "      <td>2/18/2015</td>\n",
       "      <td>510000.0</td>\n",
       "      <td>3</td>\n",
       "      <td>2.00</td>\n",
       "      <td>1680</td>\n",
       "      <td>8080</td>\n",
       "      <td>1.0</td>\n",
       "      <td>0.0</td>\n",
       "      <td>0.0</td>\n",
       "      <td>...</td>\n",
       "      <td>8</td>\n",
       "      <td>1680</td>\n",
       "      <td>0.0</td>\n",
       "      <td>1987</td>\n",
       "      <td>0.0</td>\n",
       "      <td>98074</td>\n",
       "      <td>47.6168</td>\n",
       "      <td>-122.045</td>\n",
       "      <td>1800</td>\n",
       "      <td>7503</td>\n",
       "    </tr>\n",
       "  </tbody>\n",
       "</table>\n",
       "<p>5 rows × 21 columns</p>\n",
       "</div>"
      ],
      "text/plain": [
       "           id        date     price  bedrooms  bathrooms  sqft_living  \\\n",
       "0  7129300520  10/13/2014  221900.0         3       1.00         1180   \n",
       "1  6414100192   12/9/2014  538000.0         3       2.25         2570   \n",
       "2  5631500400   2/25/2015  180000.0         2       1.00          770   \n",
       "3  2487200875   12/9/2014  604000.0         4       3.00         1960   \n",
       "4  1954400510   2/18/2015  510000.0         3       2.00         1680   \n",
       "\n",
       "   sqft_lot  floors  waterfront  view  ...  grade  sqft_above  sqft_basement  \\\n",
       "0      5650     1.0         NaN   0.0  ...      7        1180            0.0   \n",
       "1      7242     2.0         0.0   0.0  ...      7        2170          400.0   \n",
       "2     10000     1.0         0.0   0.0  ...      6         770            0.0   \n",
       "3      5000     1.0         0.0   0.0  ...      7        1050          910.0   \n",
       "4      8080     1.0         0.0   0.0  ...      8        1680            0.0   \n",
       "\n",
       "  yr_built  yr_renovated  zipcode      lat     long  sqft_living15  sqft_lot15  \n",
       "0     1955           0.0    98178  47.5112 -122.257           1340        5650  \n",
       "1     1951        1991.0    98125  47.7210 -122.319           1690        7639  \n",
       "2     1933           NaN    98028  47.7379 -122.233           2720        8062  \n",
       "3     1965           0.0    98136  47.5208 -122.393           1360        5000  \n",
       "4     1987           0.0    98074  47.6168 -122.045           1800        7503  \n",
       "\n",
       "[5 rows x 21 columns]"
      ]
     },
     "execution_count": 598,
     "metadata": {},
     "output_type": "execute_result"
    }
   ],
   "source": [
    "housing.head()"
   ]
  },
  {
   "cell_type": "code",
   "execution_count": 599,
   "id": "0e3e90a1-9fdc-43eb-98fb-ecb34bba27ac",
   "metadata": {},
   "outputs": [
    {
     "name": "stdout",
     "output_type": "stream",
     "text": [
      "<class 'pandas.core.frame.DataFrame'>\n",
      "RangeIndex: 21597 entries, 0 to 21596\n",
      "Data columns (total 21 columns):\n",
      " #   Column         Non-Null Count  Dtype  \n",
      "---  ------         --------------  -----  \n",
      " 0   id             21597 non-null  int64  \n",
      " 1   date           21597 non-null  object \n",
      " 2   price          21597 non-null  float64\n",
      " 3   bedrooms       21597 non-null  int64  \n",
      " 4   bathrooms      21597 non-null  float64\n",
      " 5   sqft_living    21597 non-null  int64  \n",
      " 6   sqft_lot       21597 non-null  int64  \n",
      " 7   floors         21597 non-null  float64\n",
      " 8   waterfront     19221 non-null  float64\n",
      " 9   view           21534 non-null  float64\n",
      " 10  condition      21597 non-null  int64  \n",
      " 11  grade          21597 non-null  int64  \n",
      " 12  sqft_above     21597 non-null  int64  \n",
      " 13  sqft_basement  21597 non-null  object \n",
      " 14  yr_built       21597 non-null  int64  \n",
      " 15  yr_renovated   17755 non-null  float64\n",
      " 16  zipcode        21597 non-null  int64  \n",
      " 17  lat            21597 non-null  float64\n",
      " 18  long           21597 non-null  float64\n",
      " 19  sqft_living15  21597 non-null  int64  \n",
      " 20  sqft_lot15     21597 non-null  int64  \n",
      "dtypes: float64(8), int64(11), object(2)\n",
      "memory usage: 3.5+ MB\n"
     ]
    }
   ],
   "source": [
    "# What datatypes are there?\n",
    "housing.info()"
   ]
  },
  {
   "cell_type": "code",
   "execution_count": 600,
   "id": "66e01f40-0386-4d4b-9305-0d1c2dba2d07",
   "metadata": {},
   "outputs": [
    {
     "data": {
      "text/plain": [
       "id               21420\n",
       "date               372\n",
       "price             3622\n",
       "bedrooms            12\n",
       "bathrooms           29\n",
       "sqft_living       1034\n",
       "sqft_lot          9776\n",
       "floors               6\n",
       "waterfront           2\n",
       "view                 5\n",
       "condition            5\n",
       "grade               11\n",
       "sqft_above         942\n",
       "sqft_basement      304\n",
       "yr_built           116\n",
       "yr_renovated        70\n",
       "zipcode             70\n",
       "lat               5033\n",
       "long               751\n",
       "sqft_living15      777\n",
       "sqft_lot15        8682\n",
       "dtype: int64"
      ]
     },
     "execution_count": 600,
     "metadata": {},
     "output_type": "execute_result"
    }
   ],
   "source": [
    "# What variables are non continuous?\n",
    "housing.nunique()"
   ]
  },
  {
   "cell_type": "markdown",
   "id": "cda71315-cab1-44ff-9a9b-e647a4381952",
   "metadata": {},
   "source": [
    "Low-count variables: bedrooms, bathrooms, floors, view\n",
    "Binary: waterfront\n",
    "Categorical (ordinal): condition, grade \n",
    "Categorical (unordered/not linearly ordered):  "
   ]
  },
  {
   "cell_type": "markdown",
   "id": "a6f99478-5864-4ac7-b1f5-0234d2b13878",
   "metadata": {},
   "source": [
    "## 5. Data Cleaning"
   ]
  },
  {
   "cell_type": "code",
   "execution_count": 601,
   "id": "6c13aeab-698f-4726-b118-f35ef4891f7a",
   "metadata": {},
   "outputs": [],
   "source": [
    "# one house apperently had 33 bedrooms but only 1.75 bathrooms\n",
    "housing.bedrooms.replace(33, np.nan, inplace=True)\n",
    "# one house apperently was build in the birth year of Christ\n",
    "housing.yr_renovated.replace(np.NaN, 0, inplace=True)"
   ]
  },
  {
   "cell_type": "code",
   "execution_count": 602,
   "id": "d6cf29b4-e09b-44eb-9a99-fa10c28ec387",
   "metadata": {},
   "outputs": [],
   "source": [
    "housing.sqft_basement.replace('?', 0, inplace=True)\n",
    "housing.sqft_basement = pd.Series(housing.sqft_basement, dtype='float64')"
   ]
  },
  {
   "cell_type": "markdown",
   "id": "ab459438-1e13-417d-9485-66860e8ece02",
   "metadata": {},
   "source": [
    "## 5. Formatting the variables"
   ]
  },
  {
   "cell_type": "markdown",
   "id": "c697bd4b-37ac-4758-bd4c-2d9a7ac0e735",
   "metadata": {},
   "source": [
    "Setting the date in the correct format"
   ]
  },
  {
   "cell_type": "code",
   "execution_count": 603,
   "id": "62d5c89d-67c2-42b7-b39b-0b39ba17a514",
   "metadata": {
    "tags": []
   },
   "outputs": [
    {
     "name": "stdout",
     "output_type": "stream",
     "text": [
      "2014-05-02 00:00:00  to  2015-05-27 00:00:00\n"
     ]
    }
   ],
   "source": [
    "housing.date = pd.to_datetime(housing.date)\n",
    "# checking for irregularities\n",
    "print(housing.date.min() , ' to ' , housing.date.max())"
   ]
  },
  {
   "cell_type": "markdown",
   "id": "15c8c6b7-fb06-4ace-8190-330127ef9fe8",
   "metadata": {},
   "source": [
    "Declaring the zipcode as a categorical variable"
   ]
  },
  {
   "cell_type": "code",
   "execution_count": 604,
   "id": "c4b20aea-773e-4007-a433-bcd31ce3a221",
   "metadata": {},
   "outputs": [],
   "source": [
    "housing.zipcode = pd.Series(housing.zipcode, dtype='category')"
   ]
  },
  {
   "cell_type": "markdown",
   "id": "c6b6aac6-2c47-4259-a9e5-a5e811373c00",
   "metadata": {},
   "source": [
    "Setting the minimum of the data in years to zero"
   ]
  },
  {
   "cell_type": "code",
   "execution_count": 605,
   "id": "5bdc1542-42a2-4382-89cb-400a29be966a",
   "metadata": {},
   "outputs": [],
   "source": [
    "# housing.yr_built = housing.yr_built - min(housing.yr_built)\n",
    "# housing.yr_renovated = housing.yr_renovated - min(housing.yr_renovated[housing.yr_renovated > 1600])\n",
    "# housing.yr_renovated.replace(min(housing.yr_renovated), 0, inplace=True)"
   ]
  },
  {
   "cell_type": "markdown",
   "id": "deff4328-c36e-4151-bcc2-04233a88d4ef",
   "metadata": {},
   "source": [
    "Creating a helper variable"
   ]
  },
  {
   "cell_type": "code",
   "execution_count": 606,
   "id": "e7b66bef-4b9a-4ddd-a099-b8338f638f02",
   "metadata": {},
   "outputs": [],
   "source": [
    "housing['price_sqft'] = housing.price / housing.sqft_lot"
   ]
  },
  {
   "cell_type": "markdown",
   "id": "4440407c-a3d0-42ca-9674-f66938f39bce",
   "metadata": {},
   "source": [
    "Creating another meaningful variable"
   ]
  },
  {
   "cell_type": "code",
   "execution_count": 607,
   "id": "eb5a49c1-7c49-4622-9701-21dbc6bba970",
   "metadata": {},
   "outputs": [],
   "source": [
    "avg_price_sqft_zipcode_dict = housing.groupby('zipcode').mean().price_sqft.reindex().to_dict()\n",
    "housing['avg_price_sqft_zipcode'] = housing.zipcode.map(avg_price_sqft_zipcode_dict)\n",
    "housing.avg_price_sqft_zipcode = pd.Series(housing.avg_price_sqft_zipcode, dtype='float64')"
   ]
  },
  {
   "cell_type": "markdown",
   "id": "0ef0717f-d7ca-43a5-abd6-a8aa9eb083cb",
   "metadata": {},
   "source": [
    "The date of a renovation only matters when the building is old. And it probably matters more regarding the price than the original construction date. A lot of new buildiungs also are not renovated yet. Therefore a new variable is created."
   ]
  },
  {
   "cell_type": "code",
   "execution_count": 615,
   "id": "cd3386c4-4161-4015-8b80-ed842e48a389",
   "metadata": {},
   "outputs": [],
   "source": [
    "#Make this nicer!\n",
    "\n",
    "yr_built_or_renovated = []\n",
    "for row in range(housing.shape[0]):\n",
    "    if housing.yr_renovated[row] > housing.yr_built[row]:\n",
    "        yr_built_or_renovated.append(housing.yr_renovated[row])\n",
    "    else:\n",
    "        yr_built_or_renovated.append(housing.yr_built[row])\n",
    "housing['yr_built_or_renovated'] = pd.Series(yr_built_or_renovated, dtype='float64')"
   ]
  },
  {
   "cell_type": "markdown",
   "id": "67e35629-f0fe-4390-8aba-49db15cd9f16",
   "metadata": {},
   "source": [
    "## 6. Inspecting the distributions of the variables"
   ]
  },
  {
   "cell_type": "code",
   "execution_count": 609,
   "id": "44dc0d2b-4cb9-471f-9267-8967b99561e7",
   "metadata": {},
   "outputs": [
    {
     "data": {
      "text/html": [
       "<div>\n",
       "<style scoped>\n",
       "    .dataframe tbody tr th:only-of-type {\n",
       "        vertical-align: middle;\n",
       "    }\n",
       "\n",
       "    .dataframe tbody tr th {\n",
       "        vertical-align: top;\n",
       "    }\n",
       "\n",
       "    .dataframe thead th {\n",
       "        text-align: right;\n",
       "    }\n",
       "</style>\n",
       "<table border=\"1\" class=\"dataframe\">\n",
       "  <thead>\n",
       "    <tr style=\"text-align: right;\">\n",
       "      <th></th>\n",
       "      <th>id</th>\n",
       "      <th>price</th>\n",
       "      <th>bedrooms</th>\n",
       "      <th>bathrooms</th>\n",
       "      <th>sqft_living</th>\n",
       "      <th>sqft_lot</th>\n",
       "      <th>floors</th>\n",
       "      <th>waterfront</th>\n",
       "      <th>view</th>\n",
       "      <th>condition</th>\n",
       "      <th>...</th>\n",
       "      <th>sqft_basement</th>\n",
       "      <th>yr_built</th>\n",
       "      <th>yr_renovated</th>\n",
       "      <th>lat</th>\n",
       "      <th>long</th>\n",
       "      <th>sqft_living15</th>\n",
       "      <th>sqft_lot15</th>\n",
       "      <th>price_sqft</th>\n",
       "      <th>avg_price_sqft_zipcode</th>\n",
       "      <th>yr_built_or_renovated</th>\n",
       "    </tr>\n",
       "  </thead>\n",
       "  <tbody>\n",
       "    <tr>\n",
       "      <th>count</th>\n",
       "      <td>2.159700e+04</td>\n",
       "      <td>2.159700e+04</td>\n",
       "      <td>21596.000000</td>\n",
       "      <td>21597.000000</td>\n",
       "      <td>21597.000000</td>\n",
       "      <td>2.159700e+04</td>\n",
       "      <td>21597.000000</td>\n",
       "      <td>19221.000000</td>\n",
       "      <td>21534.000000</td>\n",
       "      <td>21597.000000</td>\n",
       "      <td>...</td>\n",
       "      <td>21597.000000</td>\n",
       "      <td>21597.000000</td>\n",
       "      <td>21597.000000</td>\n",
       "      <td>21597.000000</td>\n",
       "      <td>21597.000000</td>\n",
       "      <td>21597.000000</td>\n",
       "      <td>21597.000000</td>\n",
       "      <td>21597.000000</td>\n",
       "      <td>21597.000000</td>\n",
       "      <td>21596.000000</td>\n",
       "    </tr>\n",
       "    <tr>\n",
       "      <th>mean</th>\n",
       "      <td>4.580474e+09</td>\n",
       "      <td>5.402966e+05</td>\n",
       "      <td>3.371828</td>\n",
       "      <td>2.115826</td>\n",
       "      <td>2080.321850</td>\n",
       "      <td>1.509941e+04</td>\n",
       "      <td>1.494096</td>\n",
       "      <td>0.007596</td>\n",
       "      <td>0.233863</td>\n",
       "      <td>3.409825</td>\n",
       "      <td>...</td>\n",
       "      <td>285.716581</td>\n",
       "      <td>1970.999676</td>\n",
       "      <td>68.758207</td>\n",
       "      <td>47.560093</td>\n",
       "      <td>-122.213982</td>\n",
       "      <td>1986.620318</td>\n",
       "      <td>12758.283512</td>\n",
       "      <td>88.988978</td>\n",
       "      <td>88.988978</td>\n",
       "      <td>1972.943508</td>\n",
       "    </tr>\n",
       "    <tr>\n",
       "      <th>std</th>\n",
       "      <td>2.876736e+09</td>\n",
       "      <td>3.673681e+05</td>\n",
       "      <td>0.904114</td>\n",
       "      <td>0.768984</td>\n",
       "      <td>918.106125</td>\n",
       "      <td>4.141264e+04</td>\n",
       "      <td>0.539683</td>\n",
       "      <td>0.086825</td>\n",
       "      <td>0.765686</td>\n",
       "      <td>0.650546</td>\n",
       "      <td>...</td>\n",
       "      <td>439.819830</td>\n",
       "      <td>29.375234</td>\n",
       "      <td>364.037499</td>\n",
       "      <td>0.138552</td>\n",
       "      <td>0.140724</td>\n",
       "      <td>685.230472</td>\n",
       "      <td>27274.441950</td>\n",
       "      <td>94.059663</td>\n",
       "      <td>63.725055</td>\n",
       "      <td>28.945081</td>\n",
       "    </tr>\n",
       "    <tr>\n",
       "      <th>min</th>\n",
       "      <td>1.000102e+06</td>\n",
       "      <td>7.800000e+04</td>\n",
       "      <td>1.000000</td>\n",
       "      <td>0.500000</td>\n",
       "      <td>370.000000</td>\n",
       "      <td>5.200000e+02</td>\n",
       "      <td>1.000000</td>\n",
       "      <td>0.000000</td>\n",
       "      <td>0.000000</td>\n",
       "      <td>1.000000</td>\n",
       "      <td>...</td>\n",
       "      <td>0.000000</td>\n",
       "      <td>1900.000000</td>\n",
       "      <td>0.000000</td>\n",
       "      <td>47.155900</td>\n",
       "      <td>-122.519000</td>\n",
       "      <td>399.000000</td>\n",
       "      <td>651.000000</td>\n",
       "      <td>0.163119</td>\n",
       "      <td>15.196643</td>\n",
       "      <td>1900.000000</td>\n",
       "    </tr>\n",
       "    <tr>\n",
       "      <th>25%</th>\n",
       "      <td>2.123049e+09</td>\n",
       "      <td>3.220000e+05</td>\n",
       "      <td>3.000000</td>\n",
       "      <td>1.750000</td>\n",
       "      <td>1430.000000</td>\n",
       "      <td>5.040000e+03</td>\n",
       "      <td>1.000000</td>\n",
       "      <td>0.000000</td>\n",
       "      <td>0.000000</td>\n",
       "      <td>3.000000</td>\n",
       "      <td>...</td>\n",
       "      <td>0.000000</td>\n",
       "      <td>1951.000000</td>\n",
       "      <td>0.000000</td>\n",
       "      <td>47.471100</td>\n",
       "      <td>-122.328000</td>\n",
       "      <td>1490.000000</td>\n",
       "      <td>5100.000000</td>\n",
       "      <td>33.333333</td>\n",
       "      <td>39.998968</td>\n",
       "      <td>1954.000000</td>\n",
       "    </tr>\n",
       "    <tr>\n",
       "      <th>50%</th>\n",
       "      <td>3.904930e+09</td>\n",
       "      <td>4.500000e+05</td>\n",
       "      <td>3.000000</td>\n",
       "      <td>2.250000</td>\n",
       "      <td>1910.000000</td>\n",
       "      <td>7.618000e+03</td>\n",
       "      <td>1.500000</td>\n",
       "      <td>0.000000</td>\n",
       "      <td>0.000000</td>\n",
       "      <td>3.000000</td>\n",
       "      <td>...</td>\n",
       "      <td>0.000000</td>\n",
       "      <td>1975.000000</td>\n",
       "      <td>0.000000</td>\n",
       "      <td>47.571800</td>\n",
       "      <td>-122.231000</td>\n",
       "      <td>1840.000000</td>\n",
       "      <td>7620.000000</td>\n",
       "      <td>59.262128</td>\n",
       "      <td>71.443966</td>\n",
       "      <td>1977.000000</td>\n",
       "    </tr>\n",
       "    <tr>\n",
       "      <th>75%</th>\n",
       "      <td>7.308900e+09</td>\n",
       "      <td>6.450000e+05</td>\n",
       "      <td>4.000000</td>\n",
       "      <td>2.500000</td>\n",
       "      <td>2550.000000</td>\n",
       "      <td>1.068500e+04</td>\n",
       "      <td>2.000000</td>\n",
       "      <td>0.000000</td>\n",
       "      <td>0.000000</td>\n",
       "      <td>4.000000</td>\n",
       "      <td>...</td>\n",
       "      <td>550.000000</td>\n",
       "      <td>1997.000000</td>\n",
       "      <td>0.000000</td>\n",
       "      <td>47.678000</td>\n",
       "      <td>-122.125000</td>\n",
       "      <td>2360.000000</td>\n",
       "      <td>10083.000000</td>\n",
       "      <td>107.609531</td>\n",
       "      <td>104.773639</td>\n",
       "      <td>1999.000000</td>\n",
       "    </tr>\n",
       "    <tr>\n",
       "      <th>max</th>\n",
       "      <td>9.900000e+09</td>\n",
       "      <td>7.700000e+06</td>\n",
       "      <td>11.000000</td>\n",
       "      <td>8.000000</td>\n",
       "      <td>13540.000000</td>\n",
       "      <td>1.651359e+06</td>\n",
       "      <td>3.500000</td>\n",
       "      <td>1.000000</td>\n",
       "      <td>4.000000</td>\n",
       "      <td>5.000000</td>\n",
       "      <td>...</td>\n",
       "      <td>4820.000000</td>\n",
       "      <td>2015.000000</td>\n",
       "      <td>2015.000000</td>\n",
       "      <td>47.777600</td>\n",
       "      <td>-121.315000</td>\n",
       "      <td>6210.000000</td>\n",
       "      <td>871200.000000</td>\n",
       "      <td>2019.704433</td>\n",
       "      <td>322.561090</td>\n",
       "      <td>2015.000000</td>\n",
       "    </tr>\n",
       "  </tbody>\n",
       "</table>\n",
       "<p>8 rows × 22 columns</p>\n",
       "</div>"
      ],
      "text/plain": [
       "                 id         price      bedrooms     bathrooms   sqft_living  \\\n",
       "count  2.159700e+04  2.159700e+04  21596.000000  21597.000000  21597.000000   \n",
       "mean   4.580474e+09  5.402966e+05      3.371828      2.115826   2080.321850   \n",
       "std    2.876736e+09  3.673681e+05      0.904114      0.768984    918.106125   \n",
       "min    1.000102e+06  7.800000e+04      1.000000      0.500000    370.000000   \n",
       "25%    2.123049e+09  3.220000e+05      3.000000      1.750000   1430.000000   \n",
       "50%    3.904930e+09  4.500000e+05      3.000000      2.250000   1910.000000   \n",
       "75%    7.308900e+09  6.450000e+05      4.000000      2.500000   2550.000000   \n",
       "max    9.900000e+09  7.700000e+06     11.000000      8.000000  13540.000000   \n",
       "\n",
       "           sqft_lot        floors    waterfront          view     condition  \\\n",
       "count  2.159700e+04  21597.000000  19221.000000  21534.000000  21597.000000   \n",
       "mean   1.509941e+04      1.494096      0.007596      0.233863      3.409825   \n",
       "std    4.141264e+04      0.539683      0.086825      0.765686      0.650546   \n",
       "min    5.200000e+02      1.000000      0.000000      0.000000      1.000000   \n",
       "25%    5.040000e+03      1.000000      0.000000      0.000000      3.000000   \n",
       "50%    7.618000e+03      1.500000      0.000000      0.000000      3.000000   \n",
       "75%    1.068500e+04      2.000000      0.000000      0.000000      4.000000   \n",
       "max    1.651359e+06      3.500000      1.000000      4.000000      5.000000   \n",
       "\n",
       "       ...  sqft_basement      yr_built  yr_renovated           lat  \\\n",
       "count  ...   21597.000000  21597.000000  21597.000000  21597.000000   \n",
       "mean   ...     285.716581   1970.999676     68.758207     47.560093   \n",
       "std    ...     439.819830     29.375234    364.037499      0.138552   \n",
       "min    ...       0.000000   1900.000000      0.000000     47.155900   \n",
       "25%    ...       0.000000   1951.000000      0.000000     47.471100   \n",
       "50%    ...       0.000000   1975.000000      0.000000     47.571800   \n",
       "75%    ...     550.000000   1997.000000      0.000000     47.678000   \n",
       "max    ...    4820.000000   2015.000000   2015.000000     47.777600   \n",
       "\n",
       "               long  sqft_living15     sqft_lot15    price_sqft  \\\n",
       "count  21597.000000   21597.000000   21597.000000  21597.000000   \n",
       "mean    -122.213982    1986.620318   12758.283512     88.988978   \n",
       "std        0.140724     685.230472   27274.441950     94.059663   \n",
       "min     -122.519000     399.000000     651.000000      0.163119   \n",
       "25%     -122.328000    1490.000000    5100.000000     33.333333   \n",
       "50%     -122.231000    1840.000000    7620.000000     59.262128   \n",
       "75%     -122.125000    2360.000000   10083.000000    107.609531   \n",
       "max     -121.315000    6210.000000  871200.000000   2019.704433   \n",
       "\n",
       "       avg_price_sqft_zipcode  yr_built_or_renovated  \n",
       "count            21597.000000           21596.000000  \n",
       "mean                88.988978            1972.943508  \n",
       "std                 63.725055              28.945081  \n",
       "min                 15.196643            1900.000000  \n",
       "25%                 39.998968            1954.000000  \n",
       "50%                 71.443966            1977.000000  \n",
       "75%                104.773639            1999.000000  \n",
       "max                322.561090            2015.000000  \n",
       "\n",
       "[8 rows x 22 columns]"
      ]
     },
     "execution_count": 609,
     "metadata": {},
     "output_type": "execute_result"
    }
   ],
   "source": [
    "housing.describe()"
   ]
  },
  {
   "cell_type": "code",
   "execution_count": 618,
   "id": "83d98510-7751-44b9-b320-1f28e5f92f45",
   "metadata": {},
   "outputs": [
    {
     "data": {
      "image/png": "[encoded data removed]",
      "text/plain": [
       "<Figure size 1152x1440 with 25 Axes>"
      ]
     },
     "metadata": {
      "needs_background": "light"
     },
     "output_type": "display_data"
    }
   ],
   "source": [
    "housing.hist(figsize=(16, 20), bins=30);"
   ]
  },
  {
   "cell_type": "code",
   "execution_count": null,
   "id": "93dc2e86-dde1-46cf-a4d6-1d56016e6eb4",
   "metadata": {},
   "outputs": [],
   "source": []
  }
 ],
 "metadata": {
  "kernelspec": {
   "display_name": "Python 3",
   "language": "python",
   "name": "python3"
  },
  "language_info": {
   "codemirror_mode": {
    "name": "ipython",
    "version": 3
   },
   "file_extension": ".py",
   "mimetype": "text/x-python",
   "name": "python",
   "nbconvert_exporter": "python",
   "pygments_lexer": "ipython3",
   "version": "3.9.5"
  }
 },
 "nbformat": 4,
 "nbformat_minor": 5
}
